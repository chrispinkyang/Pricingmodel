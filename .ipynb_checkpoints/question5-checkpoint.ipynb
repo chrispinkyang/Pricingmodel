{
 "cells": [
  {
   "cell_type": "code",
   "execution_count": 7,
   "metadata": {},
   "outputs": [
    {
     "name": "stdout",
     "output_type": "stream",
     "text": [
      "Using the Black-Scholes pricing, the option price is 2.27778032946\n"
     ]
    }
   ],
   "source": [
    "''''\n",
    "NAME:YANG ZITAO\n",
    "student NO.:1155098948\n",
    "''''\n",
    "#For question (a)\n",
    "#black_scholes model\n",
    "from scipy import stats\n",
    "import math\n",
    "\n",
    "def black_scholes (cp, s, k, t, v, rf):\n",
    "        \"\"\" Price an option using the Black-Scholes model.\n",
    "        s: initial stock price\n",
    "        k: strike price\n",
    "        t: expiration time\n",
    "        v: volatility\n",
    "        rf: risk-free rate\n",
    "        cp: +1/-1 for call/put\n",
    "        \"\"\"\n",
    "\n",
    "        d1 = (math.log(s/k)+(rf-div+0.5*math.pow(v,2))*t)/(v*math.sqrt(t))\n",
    "        d2 = d1 - v*math.sqrt(t)\n",
    "\n",
    "        optprice = (cp*s*stats.norm.cdf(cp*d1)) - (cp*k*math.exp(-rf*t)*stats.norm.cdf(cp*d2))\n",
    "        return optprice\n",
    "\n",
    "S = 40\n",
    "K = 42\n",
    "r = 0.1\n",
    "v = 0.2\n",
    "T = 0.5\n",
    "cp = 1\n",
    "price = black_scholes(cp,S,K,T,v,r)\n",
    "print('Using the Black-Scholes pricing, the option price is ' + str(price))"
   ]
  },
  {
   "cell_type": "code",
   "execution_count": 4,
   "metadata": {},
   "outputs": [
    {
     "name": "stdout",
     "output_type": "stream",
     "text": [
      "Using the binomial tree pricing, the option price is 2.846197486606504\n"
     ]
    }
   ],
   "source": [
    "#For question (b)\n",
    "#binomial tree model\n",
    "import math\n",
    "\n",
    "class Bnode(object):\n",
    "    def __init__(self,price,e_value,style):\n",
    "        self.price = price\n",
    "        self.e_value = e_value\n",
    "        self.c_value = 0\n",
    "        self.style = style\n",
    "\n",
    "    def setcvalue(self,c_value):\n",
    "        #continue value\n",
    "        #also the value of the options in European option\n",
    "        self.c_value = c_value\n",
    "        if self.style == 'A':\n",
    "            #American\n",
    "            self.o_value = max(self.c_value, self.e_value)\n",
    "        else:\n",
    "            #European\n",
    "            self.o_value = c_value\n",
    "    def __repr__(self):\n",
    "        return '(' + str(self.price) +','+ str(self.e_value) + ',' + str(self.c_value) + ',' + str(self.o_value) + ')'\n",
    "\n",
    "def binTree(S,K,r,v,T,n,otype,style='E'):\n",
    "    ''''Price an option using the Black-Scholes model\n",
    "    S is the initial price\n",
    "    K is the strike price at the maturity\n",
    "    r is the risk-free interest rate\n",
    "    v is the volatility\n",
    "    T is the length of period\n",
    "    n is the number of steps\n",
    "    otype is the call/put. input 'call'means call option, others means put\n",
    "    style='A' means American options while 'E' means European option\n",
    "    ''''\n",
    "    delta_t = T/n\n",
    "    \n",
    "    a = math.exp(r*delta_t)\n",
    "    u = math.exp(r*delta_t + v*math.sqrt(delta_t))\n",
    "    d = math.exp(r*delta_t - v*math.sqrt(delta_t))\n",
    "    \n",
    "    p = (a-d)/(u-d)\n",
    "    q = 1-p\n",
    "\n",
    "    root = Bnode(S,0,style)\n",
    "    price_list = [[root]]\n",
    "    \n",
    "    for l in range(1,n+1):\n",
    "        new_layer = []\n",
    "        for i in range(l+1):\n",
    "            price = S*(u**(l-i))*(d**i)\n",
    "            if otype == 'call':\n",
    "                node = Bnode(price,max(price-K,0),style)#for call option\n",
    "            else:\n",
    "                node = Bnode(price,max(K-price,0),style)#for put option\n",
    "            new_layer.append(node)\n",
    "        price_list.append(new_layer)\n",
    "\n",
    "    #the value of end node is the same as the difference with strike price\n",
    "    for each in price_list[-1]:\n",
    "        each.setcvalue(each.e_value)\n",
    "    \n",
    "    for index, line in enumerate(price_list[-2::-1]):\n",
    "        children = price_list[-index-1]\n",
    "        for i,each in enumerate(line):\n",
    "            each.setcvalue((p*children[i].o_value + q*children[i+1].o_value)/a)\n",
    "    print('Using the binomial tree pricing, the option price is '+ str(price_list[0][0].o_value))\n",
    "\n",
    "\n",
    "S = 40\n",
    "K = 42\n",
    "r = 0.1\n",
    "v = 0.2\n",
    "T = 0.5\n",
    "n = 1\n",
    "otype = 'call'\n",
    "binTree(S,K,r,v,T,n,otype,style='E')"
   ]
  },
  {
   "cell_type": "markdown",
   "metadata": {},
   "source": [
    "SUMMARY:\n",
    "Using the Black-Scholes pricing, the option price is 2.27778032946,\n",
    "Using the binomial tree pricing, the option price is 2.84619748661.\n",
    "the price generated from binomial tree model is larger than that from Black-Scholes model."
   ]
  }
 ],
 "metadata": {
  "kernelspec": {
   "display_name": "Python 3",
   "language": "python",
   "name": "python3"
  },
  "language_info": {
   "codemirror_mode": {
    "name": "ipython",
    "version": 3
   },
   "file_extension": ".py",
   "mimetype": "text/x-python",
   "name": "python",
   "nbconvert_exporter": "python",
   "pygments_lexer": "ipython3",
   "version": "3.6.2"
  }
 },
 "nbformat": 4,
 "nbformat_minor": 2
}
